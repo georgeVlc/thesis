{
 "cells": [
  {
   "cell_type": "code",
   "execution_count": 1,
   "metadata": {},
   "outputs": [],
   "source": [
    "import time\n",
    "import torch\n",
    "import numpy as np\n",
    "from numba import jit\n",
    "import networkx as nx\n",
    "from matplotlib import pyplot as plt\n",
    "from label_spreading import *\n",
    "\n",
    "plt.style.use('dark_background')"
   ]
  },
  {
   "cell_type": "code",
   "execution_count": 2,
   "metadata": {},
   "outputs": [
    {
     "data": {
      "text/plain": [
       "device(type='cuda', index=0)"
      ]
     },
     "execution_count": 2,
     "metadata": {},
     "output_type": "execute_result"
    }
   ],
   "source": [
    "device = torch.device('cuda:0' if torch.cuda.is_available() else 'cpu')\n",
    "device"
   ]
  },
  {
   "cell_type": "code",
   "execution_count": 3,
   "metadata": {},
   "outputs": [],
   "source": [
    "from joblib import Parallel, delayed\n",
    "\n",
    "@jit(nopython=True)\n",
    "def generate_adj_matrix(n, p):\n",
    "    adjacency_matrix = np.random.rand(n, n) < p\n",
    "    np.fill_diagonal(adjacency_matrix, 0)\n",
    "    return adjacency_matrix.astype(np.float64)\n",
    "\n",
    "\n",
    "def initialize_population(population_len, n, p, n_jobs=-1):\n",
    "    population = Parallel(n_jobs=n_jobs)(\n",
    "        delayed(generate_adj_matrix)(n, p) for _ in range(population_len)\n",
    "    )\n",
    "    return population"
   ]
  },
  {
   "cell_type": "code",
   "execution_count": 4,
   "metadata": {},
   "outputs": [],
   "source": [
    "@jit(nopython=True)\n",
    "def get_test_indices(data, test_size=0.3):\n",
    "    test_indices_list = []\n",
    "    \n",
    "    for row in data:\n",
    "        nonzero_indices = np.nonzero(row)[0]\n",
    "        num_indices_to_keep = int(np.ceil(test_size * len(nonzero_indices)))\n",
    "        selected_indices = np.random.choice(nonzero_indices, size=num_indices_to_keep, replace=False)\n",
    "        test_indices_list.append(selected_indices)\n",
    "    \n",
    "    return test_indices_list\n",
    "\n",
    "\n",
    "def run_label_spreading(W, original_data, predicted_data, test_indices, device, alpha=0.5, verbose=True):\n",
    "    adj_matrix_t = torch.tensor(W, dtype=torch.float64)\n",
    "\n",
    "    for i in range(original_data.shape[0]):\n",
    "        train_data = original_data[i, :].copy()\n",
    "        \n",
    "        labels_t = torch.tensor( train_data , dtype=torch.long )\n",
    "\n",
    "        if len(test_indices[i]):\n",
    "            labels_t[labels_t == 0] = -1\n",
    "            labels_t[test_indices[i]] = -1\n",
    "        else:\n",
    "            predicted_data[i, :] = labels_t\n",
    "            continue    \n",
    "            raise Exception('empty test')\n",
    "            \n",
    "        label_spreading = LabelSpreading(adj_matrix_t)\n",
    "        label_spreading.fit(labels_t, alpha=alpha, verbose=verbose)\n",
    "        label_spreading_output_labels = label_spreading.predict_classes()\n",
    "        predicted_data[i, :] = label_spreading_output_labels\n",
    "\n",
    "\n",
    "@jit(nopython=True)\n",
    "def mean_absolute_error(y_true, y_pred, denom):\n",
    "    return np.sum(np.abs(y_true - y_pred)) / denom\n",
    "\n",
    "\n",
    "@jit(nopython=True)\n",
    "def mean_squared_error(y_true, y_pred, denom):\n",
    "    return np.sum((y_true - y_pred) ** 2) / denom\n",
    "\n",
    "\n",
    "def get_fitness(original_data, predicted_data, test_indices):\n",
    "    e = []\n",
    "\n",
    "    for i in range(original_data.shape[0]):\n",
    "        if len(test_indices[i]):\n",
    "            \n",
    "            y_true = original_data[i, test_indices[i]].astype(np.int8)\n",
    "            y_pred = predicted_data[i, test_indices[i]].astype(np.int8)\n",
    "\n",
    "            mse = mean_squared_error(y_true, y_pred, len(y_true))\n",
    "            e.append(mse)\n",
    "        # else:\n",
    "            # raise Exception('empty test sample')\n",
    "                \n",
    "    return -np.sum(e) / len(test_indices)\n",
    "\n",
    "\n",
    "def evaluate_population(population, original_data, test_indices, device, verbose=True):\n",
    "    scores = [ [i, None, None] for i in range(len(population)) ] \n",
    "    \n",
    "    for i in range(len(population)):\n",
    "        predicted_data = np.empty_like(original_data)\n",
    "        run_label_spreading(population[i], original_data, predicted_data, test_indices, device=device, verbose=verbose)\n",
    "        scores[i][1] = get_fitness(original_data, predicted_data, test_indices)\n",
    "        scores[i][2] = predicted_data\n",
    "        \n",
    "    return scores"
   ]
  },
  {
   "cell_type": "code",
   "execution_count": 5,
   "metadata": {},
   "outputs": [],
   "source": [
    "def mutate(adj_matrix, mutation_rate=0.01):\n",
    "    mutation_mask = np.random.rand(*adj_matrix.shape) < mutation_rate\n",
    "    mutated_matrix = np.logical_xor(adj_matrix, mutation_mask).astype(np.float64)\n",
    "\n",
    "    np.fill_diagonal(mutated_matrix, 0)\n",
    "    return mutated_matrix\n",
    "\n",
    "\n",
    "def crossover(W1, W2, W1_fitness, W2_fitness):\n",
    "    W1_weight = W1_fitness / (W1_fitness + W2_fitness)\n",
    "    W2_weight = W2_fitness / (W1_fitness + W2_fitness)\n",
    "\n",
    "    new_W = (W1 * W1_weight + W2 * W2_weight).astype(np.float64)\n",
    "    np.fill_diagonal(new_W, 0)\n",
    "\n",
    "    return new_W"
   ]
  },
  {
   "cell_type": "code",
   "execution_count": 6,
   "metadata": {},
   "outputs": [],
   "source": [
    "def elitist_selection(sorted_scores, elite_percentage):\n",
    "    elite_size = int(len(sorted_scores) * elite_percentage)\n",
    "    elites_indices = [ sorted_scores[i][0]  for i in range(elite_size) ]\n",
    "    return elites_indices\n",
    "\n",
    "\n",
    "def tournament_selection(scores, elite_indices, num_parents):\n",
    "    parents_indices = elite_indices.copy()\n",
    "    parents_indices_set = set(parents_indices)\n",
    "    individuals_indices = set(range(len(scores)))\n",
    "\n",
    "    while len(parents_indices) < num_parents:\n",
    "        available_indices = list(individuals_indices - parents_indices_set)\n",
    "        try:\n",
    "            tournament_indices = np.random.choice(available_indices, len(available_indices), replace=False)\n",
    "        except Exception:\n",
    "            raise f'unable to create tournament of size: {len(available_indices)} from {len(available_indices)} individuals (without replacement)'\n",
    "\n",
    "        tournament_scores = [ (i, scores[i][1]) for i in tournament_indices ]\n",
    "        winner_idx = max(tournament_scores, key=lambda x: x[1])[0]\n",
    "\n",
    "        if winner_idx not in parents_indices:\n",
    "            parents_indices.append(winner_idx)\n",
    "            parents_indices_set.add(winner_idx)\n",
    "    \n",
    "    return parents_indices "
   ]
  },
  {
   "cell_type": "code",
   "execution_count": 7,
   "metadata": {},
   "outputs": [],
   "source": [
    "def run_simulated_annealing(og_individual, og_fitness, data, test_indices, tolerance, max_iterations, mutation_rate, device):\n",
    "    best_fitness = og_fitness\n",
    "    new_individual = og_individual.copy()\n",
    "\n",
    "    for _ in range(max_iterations):\n",
    "        new_individual = mutate(new_individual, mutation_rate)\n",
    "        new_individual_fitness = evaluate_population([new_individual], data, test_indices, device=device, verbose=False)[0][1]\n",
    "        \n",
    "        offspring = crossover(og_individual, new_individual, og_fitness, new_individual_fitness)\n",
    "        offspring_fitness = evaluate_population([offspring], data, test_indices, device=device, verbose=False)[0][1]\n",
    "        \n",
    "        if offspring_fitness >= tolerance * best_fitness:\n",
    "            return offspring\n",
    "                        \n",
    "    return None"
   ]
  },
  {
   "cell_type": "code",
   "execution_count": 8,
   "metadata": {},
   "outputs": [
    {
     "data": {
      "text/plain": [
       "(44827, 10523)"
      ]
     },
     "execution_count": 8,
     "metadata": {},
     "output_type": "execute_result"
    }
   ],
   "source": [
    "D = np.load('D_matrix.npy', mmap_mode='r')\n",
    "D.shape"
   ]
  },
  {
   "cell_type": "code",
   "execution_count": 9,
   "metadata": {},
   "outputs": [
    {
     "name": "stdout",
     "output_type": "stream",
     "text": [
      "memory_gb=62.581451416015625\n",
      "num_users=600\n",
      "num_items=10\n",
      "num_cpus=32\n",
      "partitions=31, population_len=35\n"
     ]
    }
   ],
   "source": [
    "import os\n",
    "import psutil\n",
    "\n",
    "memory_gb = psutil.virtual_memory().total / 1024**3\n",
    "print(f'{memory_gb=}')\n",
    "\n",
    "num_users = 600\n",
    "# num_users = D.shape[0]\n",
    "print(f'{num_users=}')\n",
    "\n",
    "num_items = 10\n",
    "# num_items = D.shape[1]\n",
    "print(f'{num_items=}')\n",
    "\n",
    "num_cpus = os.cpu_count()\n",
    "print(f'{num_cpus=}')\n",
    "\n",
    "partitions = num_cpus - 1\n",
    "population_len = 35\n",
    "print(f'{partitions=}, {population_len=}')\n",
    "p = 0.1"
   ]
  },
  {
   "cell_type": "code",
   "execution_count": 10,
   "metadata": {},
   "outputs": [
    {
     "data": {
      "text/plain": [
       "((10, 600), 16.766666666666666)"
      ]
     },
     "execution_count": 10,
     "metadata": {},
     "output_type": "execute_result"
    }
   ],
   "source": [
    "original_data = D.T[:num_items, :num_users].copy()\n",
    "original_data.shape, np.count_nonzero(original_data) / original_data.size * 100"
   ]
  },
  {
   "cell_type": "code",
   "execution_count": 11,
   "metadata": {},
   "outputs": [],
   "source": [
    "epochs = 350\n",
    "hist = np.zeros(shape=(epochs, 2), dtype=np.float64)\n",
    "\n",
    "test_indices = get_test_indices(original_data, test_size=0.2)\n",
    "\n",
    "max_iterations_values = [5 + (i // 20) for i in range(1, epochs + 1)]\n",
    "\n",
    "tolerance_values = np.concatenate( [np.linspace(1.2, 0.99, epochs // 2), np.linspace(1.1, 1.1, epochs // 2)] )\n",
    "if epochs % 2 == 1:\n",
    "    tolerance_values = np.concatenate([tolerance_values, [1.09]])\n",
    "\n",
    "mutation_rate_values = np.linspace(0.1, 0.005, epochs)\n",
    "population = initialize_population(population_len=population_len, n=num_users, p=p)"
   ]
  },
  {
   "cell_type": "code",
   "execution_count": 12,
   "metadata": {},
   "outputs": [
    {
     "data": {
      "text/plain": [
       "array([[0., 0., 0., ..., 0., 0., 0.],\n",
       "       [0., 0., 0., ..., 0., 0., 0.],\n",
       "       [0., 0., 0., ..., 0., 0., 0.],\n",
       "       ...,\n",
       "       [0., 0., 0., ..., 0., 0., 0.],\n",
       "       [0., 0., 0., ..., 0., 0., 1.],\n",
       "       [0., 1., 0., ..., 0., 0., 0.]])"
      ]
     },
     "execution_count": 12,
     "metadata": {},
     "output_type": "execute_result"
    }
   ],
   "source": [
    "og_population = population.copy()\n",
    "og_population[0]"
   ]
  },
  {
   "cell_type": "code",
   "execution_count": 14,
   "metadata": {},
   "outputs": [
    {
     "data": {
      "text/plain": [
       "[<matplotlib.lines.Line2D at 0x7f4597d1eb60>]"
      ]
     },
     "execution_count": 14,
     "metadata": {},
     "output_type": "execute_result"
    },
    {
     "data": {
      "image/png": "[encoded data removed]",
      "text/plain": [
       "<Figure size 640x480 with 1 Axes>"
      ]
     },
     "metadata": {},
     "output_type": "display_data"
    }
   ],
   "source": [
    "plt.plot(og_population[0].sum(0))"
   ]
  },
  {
   "cell_type": "code",
   "execution_count": 15,
   "metadata": {},
   "outputs": [
    {
     "name": "stdout",
     "output_type": "stream",
     "text": [
      "0: average_fitness=-6.328766583706655, best_fitness=-5.2154738675958185 changed: 10/10 elapsed time: 1.2019429206848145\n",
      "1: average_fitness=-5.853319080803055, best_fitness=-5.003582462253194 changed: 10/10 elapsed time: 0.6470682621002197\n",
      "2: average_fitness=-5.591181300813009, best_fitness=-4.7276922183507555 changed: 9/10 elapsed time: 1.7030715942382812\n",
      "3: average_fitness=-5.424596781151484, best_fitness=-4.7276922183507555 changed: 10/10 elapsed time: 0.5691442489624023\n",
      "4: average_fitness=-5.169702737680439, best_fitness=-4.717915795586528 changed: 9/10 elapsed time: 0.7235827445983887\n",
      "5: average_fitness=-5.086879210220674, best_fitness=-4.717915795586528 changed: 10/10 elapsed time: 0.543520450592041\n",
      "6: average_fitness=-4.984180786460927, best_fitness=-4.678725319396051 changed: 10/10 elapsed time: 0.6005747318267822\n",
      "7: average_fitness=-4.944892400862786, best_fitness=-4.49624912891986 changed: 10/10 elapsed time: 0.6167140007019043\n",
      "8: average_fitness=-4.844837249045961, best_fitness=-4.353487224157956 changed: 8/10 elapsed time: 0.829566240310669\n",
      "9: average_fitness=-4.867027210884353, best_fitness=-4.353487224157956 changed: 9/10 elapsed time: 0.8513853549957275\n",
      "10: average_fitness=-4.809657076489132, best_fitness=-4.353487224157956 changed: 7/10 elapsed time: 0.975226879119873\n",
      "11: average_fitness=-4.847846374647421, best_fitness=-4.353487224157956 changed: 7/10 elapsed time: 0.9921343326568604\n",
      "12: average_fitness=-4.850679824124771, best_fitness=-4.353487224157956 changed: 5/10 elapsed time: 1.1978561878204346\n",
      "13: average_fitness=-4.890092898622863, best_fitness=-4.353487224157956 changed: 3/10 elapsed time: 1.234382152557373\n",
      "14: average_fitness=-5.017520374979259, best_fitness=-4.353487224157956 changed: 4/10 elapsed time: 1.1990487575531006\n",
      "15: average_fitness=-4.7977521652563455, best_fitness=-4.33577293844367 changed: 3/10 elapsed time: 1.1876049041748047\n",
      "16: average_fitness=-4.97845219844035, best_fitness=-4.33577293844367 changed: 5/10 elapsed time: 1.1612145900726318\n",
      "17: average_fitness=-4.880567728554836, best_fitness=-4.33577293844367 changed: 5/10 elapsed time: 1.0250680446624756\n",
      "18: average_fitness=-4.915794673967148, best_fitness=-4.33577293844367 changed: 2/10 elapsed time: 1.380913257598877\n",
      "19: average_fitness=-4.951841795254687, best_fitness=-4.33577293844367 changed: 3/10 elapsed time: 1.5409107208251953\n",
      "20: average_fitness=-4.95805281234445, best_fitness=-4.33577293844367 changed: 5/10 elapsed time: 1.368429183959961\n",
      "21: average_fitness=-4.8557562468889985, best_fitness=-4.334439605110337 changed: 3/10 elapsed time: 1.4373712539672852\n",
      "22: average_fitness=-4.878775875228141, best_fitness=-4.33027293844367 changed: 3/10 elapsed time: 1.4530596733093262\n",
      "23: average_fitness=-4.992511017089764, best_fitness=-4.33027293844367 changed: 1/10 elapsed time: 1.4791531562805176\n",
      "24: average_fitness=-4.869188667662186, best_fitness=-4.33027293844367 changed: 2/10 elapsed time: 1.541748285293579\n",
      "25: average_fitness=-5.033734212709475, best_fitness=-4.33027293844367 changed: 4/10 elapsed time: 1.3885927200317383\n",
      "26: average_fitness=-4.800917056578729, best_fitness=-4.33027293844367 changed: 3/10 elapsed time: 1.371232509613037\n",
      "27: average_fitness=-4.804216874066701, best_fitness=-4.293606271777003 changed: 2/10 elapsed time: 1.4478445053100586\n",
      "28: average_fitness=-4.924074033515848, best_fitness=-4.293606271777003 changed: 1/10 elapsed time: 1.5626230239868164\n",
      "29: average_fitness=-4.868512842210055, best_fitness=-4.293606271777003 changed: 2/10 elapsed time: 1.5045340061187744\n",
      "30: average_fitness=-4.807310635473702, best_fitness=-4.293606271777003 changed: 1/10 elapsed time: 1.5611047744750977\n",
      "31: average_fitness=-4.881152082296335, best_fitness=-4.293606271777003 changed: 4/10 elapsed time: 1.5080838203430176\n",
      "32: average_fitness=-4.780836087605777, best_fitness=-4.293606271777003 changed: 3/10 elapsed time: 1.457040548324585\n",
      "33: average_fitness=-4.817774498091921, best_fitness=-4.293606271777003 changed: 2/10 elapsed time: 1.5988569259643555\n",
      "34: average_fitness=-4.906447585863614, best_fitness=-4.293606271777003 changed: 0/10 elapsed time: 1.6159942150115967\n",
      "35: average_fitness=-5.0479129583540745, best_fitness=-4.293606271777003 changed: 1/10 elapsed time: 1.5699238777160645\n",
      "36: average_fitness=-4.817992832254854, best_fitness=-4.293606271777003 changed: 0/10 elapsed time: 1.580594539642334\n",
      "37: average_fitness=-5.1084981582877065, best_fitness=-4.293606271777003 changed: 6/10 elapsed time: 1.3438096046447754\n",
      "38: average_fitness=-4.791715214866437, best_fitness=-4.293606271777003 changed: 3/10 elapsed time: 1.5095915794372559\n",
      "39: average_fitness=-4.952647718599636, best_fitness=-4.293606271777003 changed: 2/10 elapsed time: 1.6531882286071777\n",
      "40: average_fitness=-4.9016598639455795, best_fitness=-4.293606271777003 changed: 1/10 elapsed time: 1.7432160377502441\n",
      "41: average_fitness=-5.028992268126764, best_fitness=-4.293606271777003 changed: 1/10 elapsed time: 1.6857013702392578\n",
      "42: average_fitness=-5.233234162933468, best_fitness=-4.293606271777003 changed: 5/10 elapsed time: 1.4728176593780518\n",
      "43: average_fitness=-4.7500853990376655, best_fitness=-4.293606271777003 changed: 1/10 elapsed time: 1.824699878692627\n",
      "44: average_fitness=-5.036165770698524, best_fitness=-4.293606271777003 changed: 3/10 elapsed time: 1.7533938884735107\n",
      "45: average_fitness=-5.1317387257341975, best_fitness=-4.293606271777003 changed: 4/10 elapsed time: 1.5403368473052979\n",
      "46: average_fitness=-4.944402555168411, best_fitness=-4.293606271777003 changed: 2/10 elapsed time: 1.620131492614746\n",
      "47: average_fitness=-5.145881798573089, best_fitness=-4.293606271777003 changed: 4/10 elapsed time: 1.5047614574432373\n",
      "48: average_fitness=-4.824456080968974, best_fitness=-4.293606271777003 changed: 3/10 elapsed time: 1.7142629623413086\n",
      "49: average_fitness=-4.778512493778, best_fitness=-4.293606271777003 changed: 1/10 elapsed time: 1.7961926460266113\n",
      "50: average_fitness=-5.062137215861957, best_fitness=-4.293606271777003 changed: 0/10 elapsed time: 1.8427584171295166\n",
      "51: average_fitness=-5.202869686411152, best_fitness=-4.293606271777003 changed: 4/10 elapsed time: 1.5115551948547363\n",
      "52: average_fitness=-4.920679044300649, best_fitness=-4.293606271777003 changed: 2/10 elapsed time: 1.7344274520874023\n",
      "53: average_fitness=-4.91420886012942, best_fitness=-4.293606271777003 changed: 3/10 elapsed time: 1.646522045135498\n",
      "54: average_fitness=-4.854426796084288, best_fitness=-4.293606271777003 changed: 3/10 elapsed time: 1.511218786239624\n",
      "55: average_fitness=-4.952934693877552, best_fitness=-4.293606271777003 changed: 2/10 elapsed time: 1.753342866897583\n",
      "56: average_fitness=-5.154394375311101, best_fitness=-4.293606271777003 changed: 2/10 elapsed time: 1.7460155487060547\n",
      "57: average_fitness=-5.14621611083458, best_fitness=-4.293606271777003 changed: 3/10 elapsed time: 1.5909440517425537\n",
      "58: average_fitness=-5.16211017089763, best_fitness=-4.293606271777003 changed: 1/10 elapsed time: 1.7647149562835693\n",
      "59: average_fitness=-5.1232481499917055, best_fitness=-4.293606271777003 changed: 4/10 elapsed time: 1.7530133724212646\n",
      "60: average_fitness=-4.939307416625188, best_fitness=-4.293606271777003 changed: 5/10 elapsed time: 1.6207494735717773\n",
      "61: average_fitness=-4.914213588850176, best_fitness=-4.293606271777003 changed: 2/10 elapsed time: 1.8868129253387451\n",
      "62: average_fitness=-4.913100945744153, best_fitness=-4.293606271777003 changed: 0/10 elapsed time: 1.9907457828521729\n",
      "63: average_fitness=-4.854700978928158, best_fitness=-4.293606271777003 changed: 3/10 elapsed time: 1.6635067462921143\n",
      "64: average_fitness=-4.880660411481667, best_fitness=-4.293606271777003 changed: 4/10 elapsed time: 1.798619031906128\n",
      "65: average_fitness=-4.940750273768046, best_fitness=-4.293606271777003 changed: 1/10 elapsed time: 2.042880058288574\n",
      "66: average_fitness=-5.099647718599637, best_fitness=-4.293606271777003 changed: 3/10 elapsed time: 1.7803308963775635\n",
      "67: average_fitness=-5.056154654056746, best_fitness=-4.293606271777003 changed: 1/10 elapsed time: 1.963369369506836\n",
      "68: average_fitness=-5.016711216193796, best_fitness=-4.293606271777003 changed: 2/10 elapsed time: 1.8739972114562988\n",
      "69: average_fitness=-5.163625452132075, best_fitness=-4.293606271777003 changed: 4/10 elapsed time: 1.5460898876190186\n",
      "70: average_fitness=-4.7497395553343305, best_fitness=-4.293606271777003 changed: 1/10 elapsed time: 2.032327651977539\n",
      "71: average_fitness=-5.051799917039988, best_fitness=-4.293606271777003 changed: 3/10 elapsed time: 1.6846249103546143\n",
      "72: average_fitness=-5.052901758752283, best_fitness=-4.293606271777003 changed: 2/10 elapsed time: 1.8913052082061768\n",
      "73: average_fitness=-4.916798125103702, best_fitness=-4.293606271777003 changed: 0/10 elapsed time: 2.0478403568267822\n",
      "74: average_fitness=-5.011861390409825, best_fitness=-4.293606271777003 changed: 2/10 elapsed time: 2.048516035079956\n",
      "75: average_fitness=-5.071795603119298, best_fitness=-4.293606271777003 changed: 3/10 elapsed time: 1.848534345626831\n",
      "76: average_fitness=-4.846612626514022, best_fitness=-4.293606271777003 changed: 1/10 elapsed time: 2.0577330589294434\n",
      "77: average_fitness=-5.070982412477187, best_fitness=-4.293606271777003 changed: 2/10 elapsed time: 1.8602309226989746\n",
      "78: average_fitness=-4.97219162103866, best_fitness=-4.293606271777003 changed: 2/10 elapsed time: 2.0139787197113037\n",
      "79: average_fitness=-4.992294624191141, best_fitness=-4.293606271777003 changed: 1/10 elapsed time: 2.195075511932373\n",
      "80: average_fitness=-4.954006752945081, best_fitness=-4.293606271777003 changed: 2/10 elapsed time: 2.0355873107910156\n",
      "81: average_fitness=-5.0183906918865135, best_fitness=-4.293606271777003 changed: 0/10 elapsed time: 2.2951600551605225\n"
     ]
    },
    {
     "ename": "KeyboardInterrupt",
     "evalue": "",
     "output_type": "error",
     "traceback": [
      "\u001b[0;31m---------------------------------------------------------------------------\u001b[0m",
      "\u001b[0;31mKeyboardInterrupt\u001b[0m                         Traceback (most recent call last)",
      "Cell \u001b[0;32mIn[15], line 12\u001b[0m\n\u001b[1;32m      9\u001b[0m tolerance \u001b[38;5;241m=\u001b[39m tolerance_values[i]\n\u001b[1;32m     10\u001b[0m max_iterations \u001b[38;5;241m=\u001b[39m max_iterations_values[i]\n\u001b[0;32m---> 12\u001b[0m scores \u001b[38;5;241m=\u001b[39m \u001b[43mevaluate_population\u001b[49m\u001b[43m(\u001b[49m\u001b[43mpopulation\u001b[49m\u001b[43m,\u001b[49m\u001b[43m \u001b[49m\u001b[43moriginal_data\u001b[49m\u001b[43m,\u001b[49m\u001b[43m \u001b[49m\u001b[43mtest_indices\u001b[49m\u001b[43m,\u001b[49m\u001b[43m \u001b[49m\u001b[43mdevice\u001b[49m\u001b[38;5;241;43m=\u001b[39;49m\u001b[43mdevice\u001b[49m\u001b[43m,\u001b[49m\u001b[43m \u001b[49m\u001b[43mverbose\u001b[49m\u001b[38;5;241;43m=\u001b[39;49m\u001b[38;5;28;43;01mFalse\u001b[39;49;00m\u001b[43m)\u001b[49m\n\u001b[1;32m     14\u001b[0m valid_scores \u001b[38;5;241m=\u001b[39m [x \u001b[38;5;28;01mfor\u001b[39;00m x \u001b[38;5;129;01min\u001b[39;00m scores \u001b[38;5;28;01mif\u001b[39;00m x[\u001b[38;5;241m1\u001b[39m] \u001b[38;5;241m!=\u001b[39m np\u001b[38;5;241m.\u001b[39mfinfo(\u001b[38;5;28mfloat\u001b[39m)\u001b[38;5;241m.\u001b[39mmax]    \n\u001b[1;32m     15\u001b[0m average_fitness \u001b[38;5;241m=\u001b[39m \u001b[38;5;28msum\u001b[39m(x[\u001b[38;5;241m1\u001b[39m] \u001b[38;5;28;01mfor\u001b[39;00m x \u001b[38;5;129;01min\u001b[39;00m valid_scores) \u001b[38;5;241m/\u001b[39m \u001b[38;5;28mlen\u001b[39m(valid_scores)\n",
      "Cell \u001b[0;32mIn[4], line 68\u001b[0m, in \u001b[0;36mevaluate_population\u001b[0;34m(population, original_data, test_indices, device, verbose)\u001b[0m\n\u001b[1;32m     66\u001b[0m \u001b[38;5;28;01mfor\u001b[39;00m i \u001b[38;5;129;01min\u001b[39;00m \u001b[38;5;28mrange\u001b[39m(\u001b[38;5;28mlen\u001b[39m(population)):\n\u001b[1;32m     67\u001b[0m     predicted_data \u001b[38;5;241m=\u001b[39m np\u001b[38;5;241m.\u001b[39mempty_like(original_data)\n\u001b[0;32m---> 68\u001b[0m     \u001b[43mrun_label_spreading\u001b[49m\u001b[43m(\u001b[49m\u001b[43mpopulation\u001b[49m\u001b[43m[\u001b[49m\u001b[43mi\u001b[49m\u001b[43m]\u001b[49m\u001b[43m,\u001b[49m\u001b[43m \u001b[49m\u001b[43moriginal_data\u001b[49m\u001b[43m,\u001b[49m\u001b[43m \u001b[49m\u001b[43mpredicted_data\u001b[49m\u001b[43m,\u001b[49m\u001b[43m \u001b[49m\u001b[43mtest_indices\u001b[49m\u001b[43m,\u001b[49m\u001b[43m \u001b[49m\u001b[43mdevice\u001b[49m\u001b[38;5;241;43m=\u001b[39;49m\u001b[43mdevice\u001b[49m\u001b[43m,\u001b[49m\u001b[43m \u001b[49m\u001b[43mverbose\u001b[49m\u001b[38;5;241;43m=\u001b[39;49m\u001b[43mverbose\u001b[49m\u001b[43m)\u001b[49m\n\u001b[1;32m     69\u001b[0m     scores[i][\u001b[38;5;241m1\u001b[39m] \u001b[38;5;241m=\u001b[39m get_fitness(original_data, predicted_data, test_indices)\n\u001b[1;32m     70\u001b[0m     scores[i][\u001b[38;5;241m2\u001b[39m] \u001b[38;5;241m=\u001b[39m predicted_data\n",
      "Cell \u001b[0;32mIn[4], line 33\u001b[0m, in \u001b[0;36mrun_label_spreading\u001b[0;34m(W, original_data, predicted_data, test_indices, device, alpha, verbose)\u001b[0m\n\u001b[1;32m     31\u001b[0m label_spreading\u001b[38;5;241m.\u001b[39mfit(labels_t, alpha\u001b[38;5;241m=\u001b[39malpha, verbose\u001b[38;5;241m=\u001b[39mverbose)\n\u001b[1;32m     32\u001b[0m label_spreading_output_labels \u001b[38;5;241m=\u001b[39m label_spreading\u001b[38;5;241m.\u001b[39mpredict_classes()\n\u001b[0;32m---> 33\u001b[0m \u001b[43mpredicted_data\u001b[49m\u001b[43m[\u001b[49m\u001b[43mi\u001b[49m\u001b[43m,\u001b[49m\u001b[43m \u001b[49m\u001b[43m:\u001b[49m\u001b[43m]\u001b[49m \u001b[38;5;241m=\u001b[39m label_spreading_output_labels\n",
      "File \u001b[0;32m~/.local/lib/python3.10/site-packages/numpy/core/memmap.py:335\u001b[0m, in \u001b[0;36mmemmap.__getitem__\u001b[0;34m(self, index)\u001b[0m\n\u001b[1;32m    334\u001b[0m \u001b[38;5;28;01mdef\u001b[39;00m \u001b[38;5;21m__getitem__\u001b[39m(\u001b[38;5;28mself\u001b[39m, index):\n\u001b[0;32m--> 335\u001b[0m     res \u001b[38;5;241m=\u001b[39m \u001b[38;5;28;43msuper\u001b[39;49m\u001b[43m(\u001b[49m\u001b[43m)\u001b[49m\u001b[38;5;241;43m.\u001b[39;49m\u001b[38;5;21;43m__getitem__\u001b[39;49m\u001b[43m(\u001b[49m\u001b[43mindex\u001b[49m\u001b[43m)\u001b[49m\n\u001b[1;32m    336\u001b[0m     \u001b[38;5;28;01mif\u001b[39;00m \u001b[38;5;28mtype\u001b[39m(res) \u001b[38;5;129;01mis\u001b[39;00m memmap \u001b[38;5;129;01mand\u001b[39;00m res\u001b[38;5;241m.\u001b[39m_mmap \u001b[38;5;129;01mis\u001b[39;00m \u001b[38;5;28;01mNone\u001b[39;00m:\n\u001b[1;32m    337\u001b[0m         \u001b[38;5;28;01mreturn\u001b[39;00m res\u001b[38;5;241m.\u001b[39mview(\u001b[38;5;28mtype\u001b[39m\u001b[38;5;241m=\u001b[39mndarray)\n",
      "File \u001b[0;32m~/.local/lib/python3.10/site-packages/numpy/core/memmap.py:289\u001b[0m, in \u001b[0;36mmemmap.__array_finalize__\u001b[0;34m(self, obj)\u001b[0m\n\u001b[1;32m    285\u001b[0m             \u001b[38;5;28mself\u001b[39m\u001b[38;5;241m.\u001b[39mfilename \u001b[38;5;241m=\u001b[39m \u001b[38;5;28;01mNone\u001b[39;00m\n\u001b[1;32m    287\u001b[0m     \u001b[38;5;28;01mreturn\u001b[39;00m \u001b[38;5;28mself\u001b[39m\n\u001b[0;32m--> 289\u001b[0m \u001b[38;5;28;01mdef\u001b[39;00m \u001b[38;5;21m__array_finalize__\u001b[39m(\u001b[38;5;28mself\u001b[39m, obj):\n\u001b[1;32m    290\u001b[0m     \u001b[38;5;28;01mif\u001b[39;00m \u001b[38;5;28mhasattr\u001b[39m(obj, \u001b[38;5;124m'\u001b[39m\u001b[38;5;124m_mmap\u001b[39m\u001b[38;5;124m'\u001b[39m) \u001b[38;5;129;01mand\u001b[39;00m np\u001b[38;5;241m.\u001b[39mmay_share_memory(\u001b[38;5;28mself\u001b[39m, obj):\n\u001b[1;32m    291\u001b[0m         \u001b[38;5;28mself\u001b[39m\u001b[38;5;241m.\u001b[39m_mmap \u001b[38;5;241m=\u001b[39m obj\u001b[38;5;241m.\u001b[39m_mmap\n",
      "\u001b[0;31mKeyboardInterrupt\u001b[0m: "
     ]
    }
   ],
   "source": [
    "import time\n",
    "import random\n",
    "elites_indices = []\n",
    "\n",
    "for i in range(epochs):\n",
    "    start = time.time()\n",
    "\n",
    "    mutation_rate = mutation_rate_values[i]\n",
    "    tolerance = tolerance_values[i]\n",
    "    max_iterations = max_iterations_values[i]\n",
    "\n",
    "    scores = evaluate_population(population, original_data, test_indices, device=device, verbose=False)\n",
    "\n",
    "    valid_scores = [x for x in scores if x[1] != np.finfo(float).max]    \n",
    "    average_fitness = sum(x[1] for x in valid_scores) / len(valid_scores)\n",
    "    valid_scores = sorted(valid_scores, key=lambda x:x[1], reverse=True)\n",
    "\n",
    "    best_fitness = valid_scores[0][1]\n",
    "    print(f'{i}: {average_fitness=}, {best_fitness=}', end=' ')\n",
    "\n",
    "    hist[i][0] = average_fitness\n",
    "    hist[i][1] = best_fitness\n",
    "    \n",
    "    elites_indices = elitist_selection(valid_scores, 0.4)\n",
    "    parents_indices = tournament_selection(valid_scores, elites_indices, population_len // 2)\n",
    "    random.shuffle(parents_indices)\n",
    "\n",
    "    parent_pairs = [(parents_indices[j], parents_indices[j + 1]) for j in range(0, len(parents_indices) - 1, 2)]   \n",
    "\n",
    "    new_population = [\n",
    "            crossover(\n",
    "                population[pair[0]], \n",
    "                population[pair[1]],\n",
    "                scores[pair[0]][1], \n",
    "                scores[pair[1]][1], \n",
    "            ) for pair in parent_pairs \n",
    "        ]\n",
    "\n",
    "    diff = population_len - len(new_population) - len(parents_indices)\n",
    "    \n",
    "    if diff > 0:        \n",
    "        random.shuffle(parents_indices)\n",
    "        parent_pairs = [(parents_indices[j], parents_indices[j + 1]) for j in range(0, len(parents_indices) - 1, 2)]   \n",
    "        cnt = 0\n",
    "\n",
    "        for j in range(diff):\n",
    "            idx, fitness = valid_scores[j][0], valid_scores[j][1]\n",
    "            new_individual = run_simulated_annealing(population[idx], fitness, original_data, test_indices, tolerance, max_iterations, mutation_rate, device=device) \n",
    "            \n",
    "            if new_individual is not None:\n",
    "                new_population.append(new_individual)\n",
    "                cnt += 1\n",
    "            else:\n",
    "                new_population.append(generate_adj_matrix(num_users, p))\n",
    "        print(f'changed: {cnt}/{diff}', end=' ')\n",
    "\n",
    "    new_population.extend([ population[j] for j in parents_indices ])\n",
    "    population = new_population.copy()\n",
    "\n",
    "    end = time.time()\n",
    "    print(f'elapsed time: {end - start}')"
   ]
  },
  {
   "cell_type": "code",
   "execution_count": null,
   "metadata": {},
   "outputs": [],
   "source": []
  },
  {
   "cell_type": "code",
   "execution_count": null,
   "metadata": {},
   "outputs": [],
   "source": []
  }
 ],
 "metadata": {
  "kernelspec": {
   "display_name": "Python 3",
   "language": "python",
   "name": "python3"
  },
  "language_info": {
   "codemirror_mode": {
    "name": "ipython",
    "version": 3
   },
   "file_extension": ".py",
   "mimetype": "text/x-python",
   "name": "python",
   "nbconvert_exporter": "python",
   "pygments_lexer": "ipython3",
   "version": "3.10.12"
  }
 },
 "nbformat": 4,
 "nbformat_minor": 2
}
