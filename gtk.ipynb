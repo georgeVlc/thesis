{
 "cells": [
  {
   "cell_type": "code",
   "execution_count": 2,
   "metadata": {},
   "outputs": [],
   "source": [
    "import numpy as np\n",
    "import pandas as pd\n",
    "from matplotlib import pyplot as plt\n",
    "\n",
    "plt.style.use('dark_background')"
   ]
  },
  {
   "cell_type": "code",
   "execution_count": 3,
   "metadata": {},
   "outputs": [],
   "source": [
    "row_data = np.load('../Dataset.npy', mmap_mode='r')"
   ]
  },
  {
   "cell_type": "code",
   "execution_count": 4,
   "metadata": {},
   "outputs": [
    {
     "data": {
      "text/plain": [
       "((4669820,),\n",
       " memmap(['ur4592644,tt0120884,10,16 January 2005',\n",
       "         'ur3174947,tt0118688,3,16 January 2005',\n",
       "         'ur3780035,tt0387887,8,16 January 2005',\n",
       "         'ur4592628,tt0346491,1,16 January 2005',\n",
       "         'ur3174947,tt0094721,8,16 January 2005',\n",
       "         'ur1162550,tt0114891,9,16 January 2005',\n",
       "         'ur4371033,tt0391198,10,16 January 2005',\n",
       "         'ur4584306,tt0426568,7,14 January 2005',\n",
       "         'ur3174947,tt0120601,8,16 January 2005',\n",
       "         'ur2694867,tt0060196,10,16 January 2005'], dtype='<U43'))"
      ]
     },
     "execution_count": 4,
     "metadata": {},
     "output_type": "execute_result"
    }
   ],
   "source": [
    "row_data.shape, row_data[:10]"
   ]
  },
  {
   "cell_type": "code",
   "execution_count": 5,
   "metadata": {},
   "outputs": [],
   "source": [
    "n_records = int(1.0 * len(row_data))\n",
    "\n",
    "np.random.seed(489)\n",
    "\n",
    "df = pd.DataFrame(\n",
    "    data=pd.Series(\n",
    "        row_data[np.random.choice(len(row_data), n_records, replace=False)])\n",
    "    .str.split(',').tolist(),\n",
    "    columns=['user_id', 'movie_id', 'rating', 'date']\n",
    ")"
   ]
  },
  {
   "cell_type": "code",
   "execution_count": 6,
   "metadata": {},
   "outputs": [
    {
     "name": "stdout",
     "output_type": "stream",
     "text": [
      "<class 'pandas.core.frame.DataFrame'>\n",
      "RangeIndex: 4669820 entries, 0 to 4669819\n",
      "Data columns (total 4 columns):\n",
      " #   Column    Dtype \n",
      "---  ------    ----- \n",
      " 0   user_id   object\n",
      " 1   movie_id  object\n",
      " 2   rating    object\n",
      " 3   date      object\n",
      "dtypes: object(4)\n",
      "memory usage: 142.5+ MB\n"
     ]
    }
   ],
   "source": [
    "df.info()"
   ]
  },
  {
   "cell_type": "code",
   "execution_count": 7,
   "metadata": {},
   "outputs": [
    {
     "data": {
      "text/html": [
       "<div>\n",
       "<style scoped>\n",
       "    .dataframe tbody tr th:only-of-type {\n",
       "        vertical-align: middle;\n",
       "    }\n",
       "\n",
       "    .dataframe tbody tr th {\n",
       "        vertical-align: top;\n",
       "    }\n",
       "\n",
       "    .dataframe thead th {\n",
       "        text-align: right;\n",
       "    }\n",
       "</style>\n",
       "<table border=\"1\" class=\"dataframe\">\n",
       "  <thead>\n",
       "    <tr style=\"text-align: right;\">\n",
       "      <th></th>\n",
       "      <th>user_id</th>\n",
       "      <th>movie_id</th>\n",
       "      <th>rating</th>\n",
       "      <th>date</th>\n",
       "    </tr>\n",
       "  </thead>\n",
       "  <tbody>\n",
       "    <tr>\n",
       "      <th>0</th>\n",
       "      <td>ur2488512</td>\n",
       "      <td>tt0025586</td>\n",
       "      <td>7</td>\n",
       "      <td>1 May 2010</td>\n",
       "    </tr>\n",
       "    <tr>\n",
       "      <th>1</th>\n",
       "      <td>ur60496217</td>\n",
       "      <td>tt4425200</td>\n",
       "      <td>4</td>\n",
       "      <td>20 February 2017</td>\n",
       "    </tr>\n",
       "    <tr>\n",
       "      <th>2</th>\n",
       "      <td>ur47207197</td>\n",
       "      <td>tt8667956</td>\n",
       "      <td>9</td>\n",
       "      <td>19 May 2020</td>\n",
       "    </tr>\n",
       "    <tr>\n",
       "      <th>3</th>\n",
       "      <td>ur0475177</td>\n",
       "      <td>tt0443295</td>\n",
       "      <td>9</td>\n",
       "      <td>25 November 2005</td>\n",
       "    </tr>\n",
       "    <tr>\n",
       "      <th>4</th>\n",
       "      <td>ur18827378</td>\n",
       "      <td>tt2124787</td>\n",
       "      <td>4</td>\n",
       "      <td>3 March 2019</td>\n",
       "    </tr>\n",
       "  </tbody>\n",
       "</table>\n",
       "</div>"
      ],
      "text/plain": [
       "      user_id   movie_id rating              date\n",
       "0   ur2488512  tt0025586      7        1 May 2010\n",
       "1  ur60496217  tt4425200      4  20 February 2017\n",
       "2  ur47207197  tt8667956      9       19 May 2020\n",
       "3   ur0475177  tt0443295      9  25 November 2005\n",
       "4  ur18827378  tt2124787      4      3 March 2019"
      ]
     },
     "execution_count": 7,
     "metadata": {},
     "output_type": "execute_result"
    }
   ],
   "source": [
    "df.head()"
   ]
  },
  {
   "cell_type": "code",
   "execution_count": 8,
   "metadata": {},
   "outputs": [],
   "source": [
    "df['user_id'] = df['user_id'].astype('|S')\n",
    "df['movie_id'] = df['movie_id'].astype('|S')\n",
    "df.drop('date', axis=1, inplace=True)"
   ]
  },
  {
   "cell_type": "code",
   "execution_count": 9,
   "metadata": {},
   "outputs": [
    {
     "data": {
      "text/plain": [
       "array(['7', '4', '9', '10', '3', '6', '2', '8', '1', '5'], dtype=object)"
      ]
     },
     "execution_count": 9,
     "metadata": {},
     "output_type": "execute_result"
    }
   ],
   "source": [
    "df.rating.unique()"
   ]
  },
  {
   "cell_type": "code",
   "execution_count": 10,
   "metadata": {},
   "outputs": [],
   "source": [
    "df['rating'] = df['rating'].astype(np.uint8)"
   ]
  },
  {
   "cell_type": "code",
   "execution_count": 11,
   "metadata": {},
   "outputs": [
    {
     "data": {
      "text/plain": [
       "user_id      |S11\n",
       "movie_id     |S10\n",
       "rating      uint8\n",
       "dtype: object"
      ]
     },
     "execution_count": 11,
     "metadata": {},
     "output_type": "execute_result"
    }
   ],
   "source": [
    "df.dtypes"
   ]
  },
  {
   "cell_type": "code",
   "execution_count": 12,
   "metadata": {},
   "outputs": [
    {
     "data": {
      "text/plain": [
       "(0, 0, 0, 0.004865712168777383)"
      ]
     },
     "execution_count": 12,
     "metadata": {},
     "output_type": "execute_result"
    }
   ],
   "source": [
    "*df.isna().sum(), \\\n",
    "    df.duplicated().sum() / len(df)"
   ]
  },
  {
   "cell_type": "code",
   "execution_count": 13,
   "metadata": {},
   "outputs": [],
   "source": [
    "df = df.drop_duplicates(keep=False)"
   ]
  },
  {
   "cell_type": "code",
   "execution_count": 14,
   "metadata": {},
   "outputs": [
    {
     "data": {
      "text/html": [
       "<div>\n",
       "<style scoped>\n",
       "    .dataframe tbody tr th:only-of-type {\n",
       "        vertical-align: middle;\n",
       "    }\n",
       "\n",
       "    .dataframe tbody tr th {\n",
       "        vertical-align: top;\n",
       "    }\n",
       "\n",
       "    .dataframe thead th {\n",
       "        text-align: right;\n",
       "    }\n",
       "</style>\n",
       "<table border=\"1\" class=\"dataframe\">\n",
       "  <thead>\n",
       "    <tr style=\"text-align: right;\">\n",
       "      <th></th>\n",
       "      <th>user_id</th>\n",
       "      <th>movie_id</th>\n",
       "      <th>rating</th>\n",
       "    </tr>\n",
       "  </thead>\n",
       "  <tbody>\n",
       "    <tr>\n",
       "      <th>count</th>\n",
       "      <td>4626569</td>\n",
       "      <td>4626569</td>\n",
       "      <td>4.626569e+06</td>\n",
       "    </tr>\n",
       "    <tr>\n",
       "      <th>unique</th>\n",
       "      <td>1494249</td>\n",
       "      <td>350788</td>\n",
       "      <td>NaN</td>\n",
       "    </tr>\n",
       "    <tr>\n",
       "      <th>top</th>\n",
       "      <td>b'ur2467618'</td>\n",
       "      <td>b'tt7286456'</td>\n",
       "      <td>NaN</td>\n",
       "    </tr>\n",
       "    <tr>\n",
       "      <th>freq</th>\n",
       "      <td>24071</td>\n",
       "      <td>10291</td>\n",
       "      <td>NaN</td>\n",
       "    </tr>\n",
       "    <tr>\n",
       "      <th>mean</th>\n",
       "      <td>NaN</td>\n",
       "      <td>NaN</td>\n",
       "      <td>6.754548e+00</td>\n",
       "    </tr>\n",
       "    <tr>\n",
       "      <th>std</th>\n",
       "      <td>NaN</td>\n",
       "      <td>NaN</td>\n",
       "      <td>2.974137e+00</td>\n",
       "    </tr>\n",
       "    <tr>\n",
       "      <th>min</th>\n",
       "      <td>NaN</td>\n",
       "      <td>NaN</td>\n",
       "      <td>1.000000e+00</td>\n",
       "    </tr>\n",
       "    <tr>\n",
       "      <th>25%</th>\n",
       "      <td>NaN</td>\n",
       "      <td>NaN</td>\n",
       "      <td>5.000000e+00</td>\n",
       "    </tr>\n",
       "    <tr>\n",
       "      <th>50%</th>\n",
       "      <td>NaN</td>\n",
       "      <td>NaN</td>\n",
       "      <td>8.000000e+00</td>\n",
       "    </tr>\n",
       "    <tr>\n",
       "      <th>75%</th>\n",
       "      <td>NaN</td>\n",
       "      <td>NaN</td>\n",
       "      <td>9.000000e+00</td>\n",
       "    </tr>\n",
       "    <tr>\n",
       "      <th>max</th>\n",
       "      <td>NaN</td>\n",
       "      <td>NaN</td>\n",
       "      <td>1.000000e+01</td>\n",
       "    </tr>\n",
       "  </tbody>\n",
       "</table>\n",
       "</div>"
      ],
      "text/plain": [
       "             user_id      movie_id        rating\n",
       "count        4626569       4626569  4.626569e+06\n",
       "unique       1494249        350788           NaN\n",
       "top     b'ur2467618'  b'tt7286456'           NaN\n",
       "freq           24071         10291           NaN\n",
       "mean             NaN           NaN  6.754548e+00\n",
       "std              NaN           NaN  2.974137e+00\n",
       "min              NaN           NaN  1.000000e+00\n",
       "25%              NaN           NaN  5.000000e+00\n",
       "50%              NaN           NaN  8.000000e+00\n",
       "75%              NaN           NaN  9.000000e+00\n",
       "max              NaN           NaN  1.000000e+01"
      ]
     },
     "execution_count": 14,
     "metadata": {},
     "output_type": "execute_result"
    }
   ],
   "source": [
    "df.describe(include='all')"
   ]
  },
  {
   "cell_type": "code",
   "execution_count": 15,
   "metadata": {},
   "outputs": [
    {
     "data": {
      "image/png": "[encoded data removed]",
      "text/plain": [
       "<Figure size 700x700 with 1 Axes>"
      ]
     },
     "metadata": {},
     "output_type": "display_data"
    }
   ],
   "source": [
    "_, ax = plt.subplots(1, 1, figsize=(7, 7))\n",
    "\n",
    "df.rating.value_counts().plot.bar(ax=ax, rot=0)\n",
    "ax.set_title('Rating counts')\n",
    "ax.set_xlabel('rating')\n",
    "ax.set_ylabel('count')\n",
    "\n",
    "plt.show()"
   ]
  },
  {
   "cell_type": "code",
   "execution_count": 16,
   "metadata": {},
   "outputs": [
    {
     "data": {
      "text/plain": [
       "user_id\n",
       "b'ur2467618'      24071\n",
       "b'ur20552756'     16790\n",
       "b'ur2483625'      16691\n",
       "b'ur0482513'      13199\n",
       "b'ur2898520'      12675\n",
       "                  ...  \n",
       "b'ur118105253'        1\n",
       "b'ur68975845'         1\n",
       "b'ur0108645'          1\n",
       "b'ur120243313'        1\n",
       "b'ur107956365'        1\n",
       "Name: count, Length: 1494249, dtype: int64"
      ]
     },
     "execution_count": 16,
     "metadata": {},
     "output_type": "execute_result"
    }
   ],
   "source": [
    "num_of_ratings_per_user = df.user_id.value_counts(sort=True)\n",
    "num_of_ratings_per_user"
   ]
  },
  {
   "cell_type": "code",
   "execution_count": 17,
   "metadata": {},
   "outputs": [
    {
     "data": {
      "text/plain": [
       "906"
      ]
     },
     "execution_count": 17,
     "metadata": {},
     "output_type": "execute_result"
    }
   ],
   "source": [
    "unique_values = num_of_ratings_per_user.unique()\n",
    "len(unique_values)"
   ]
  },
  {
   "cell_type": "code",
   "execution_count": 24,
   "metadata": {},
   "outputs": [
    {
     "data": {
      "text/plain": [
       "44827"
      ]
     },
     "execution_count": 24,
     "metadata": {},
     "output_type": "execute_result"
    }
   ],
   "source": [
    "top_n = 0.03\n",
    "users_subset = list(num_of_ratings_per_user.index)[:int(top_n * len(num_of_ratings_per_user))]\n",
    "len(users_subset)"
   ]
  },
  {
   "cell_type": "code",
   "execution_count": 25,
   "metadata": {},
   "outputs": [
    {
     "data": {
      "text/plain": [
       "1226"
      ]
     },
     "execution_count": 25,
     "metadata": {},
     "output_type": "execute_result"
    }
   ],
   "source": [
    "num_of_ratings_per_movie = df.movie_id.value_counts(sort=True)\n",
    "len(np.unique(num_of_ratings_per_movie))"
   ]
  },
  {
   "cell_type": "code",
   "execution_count": 26,
   "metadata": {},
   "outputs": [
    {
     "data": {
      "text/plain": [
       "10523"
      ]
     },
     "execution_count": 26,
     "metadata": {},
     "output_type": "execute_result"
    }
   ],
   "source": [
    "movies_subset = list(num_of_ratings_per_movie.index)[:int(top_n * len(num_of_ratings_per_movie))]\n",
    "len(movies_subset)"
   ]
  },
  {
   "cell_type": "code",
   "execution_count": 27,
   "metadata": {},
   "outputs": [],
   "source": [
    "chunk_size_users = 8000\n",
    "chunk_size_movies = 2000\n",
    "\n",
    "user_dict = {user_id: idx for idx, user_id in enumerate(users_subset)}\n",
    "movie_dict = {movie_id: idx for idx, movie_id in enumerate(movies_subset)}\n",
    "\n",
    "D = np.zeros((len(users_subset), len(movies_subset)), dtype=np.uint8)\n",
    "\n",
    "for start_user in range(0, len(users_subset), chunk_size_users):\n",
    "    end_user = start_user + chunk_size_users\n",
    "    users_chunk = users_subset[start_user:end_user]\n",
    "\n",
    "    for start_movie in range(0, len(movies_subset), chunk_size_movies):\n",
    "        end_movie = start_movie + chunk_size_movies\n",
    "        movies_chunk = movies_subset[start_movie:end_movie]\n",
    "\n",
    "        mask = df.loc[df['user_id'].isin(users_chunk) & df['movie_id'].isin(movies_chunk), ['user_id', 'movie_id', 'rating']]\n",
    "\n",
    "        if not mask.empty:\n",
    "            user_indices = mask['user_id'].map(user_dict)\n",
    "            movie_indices = mask['movie_id'].map(movie_dict)\n",
    "\n",
    "            D[user_indices, movie_indices] = mask['rating'].values\n",
    "        else:\n",
    "            print('empty mask')\n"
   ]
  },
  {
   "cell_type": "code",
   "execution_count": 28,
   "metadata": {},
   "outputs": [
    {
     "data": {
      "text/plain": [
       "0.2716640982947396"
      ]
     },
     "execution_count": 28,
     "metadata": {},
     "output_type": "execute_result"
    }
   ],
   "source": [
    "np.count_nonzero(D) / D.size * 100"
   ]
  },
  {
   "cell_type": "code",
   "execution_count": 31,
   "metadata": {},
   "outputs": [
    {
     "data": {
      "image/png": "[encoded data removed]",
      "text/plain": [
       "<Figure size 640x480 with 2 Axes>"
      ]
     },
     "metadata": {},
     "output_type": "display_data"
    },
    {
     "data": {
      "text/plain": [
       "<Figure size 640x480 with 0 Axes>"
      ]
     },
     "metadata": {},
     "output_type": "display_data"
    }
   ],
   "source": [
    "import seaborn as sns\n",
    "\n",
    "sample_size = 10000\n",
    "sample_users = np.random.choice(D.shape[0], size=sample_size, replace=False)\n",
    "sample_movies = np.random.choice(D.shape[1], size=sample_size, replace=False)\n",
    "\n",
    "subset_matrix = D[sample_users][:, sample_movies]\n",
    "\n",
    "sns.heatmap(subset_matrix, cmap='viridis', cbar_kws={'label': 'Values (0 to 10)'}, xticklabels=False, yticklabels=False)\n",
    "\n",
    "plt.title('User-Movie data matrix')\n",
    "plt.show()\n",
    "plt.savefig(f'results/D_matrix_{sample_size}')"
   ]
  },
  {
   "cell_type": "code",
   "execution_count": 32,
   "metadata": {},
   "outputs": [],
   "source": [
    "np.save('D_matrix.npy', D)"
   ]
  }
 ],
 "metadata": {
  "kernelspec": {
   "display_name": "Python 3",
   "language": "python",
   "name": "python3"
  },
  "language_info": {
   "codemirror_mode": {
    "name": "ipython",
    "version": 3
   },
   "file_extension": ".py",
   "mimetype": "text/x-python",
   "name": "python",
   "nbconvert_exporter": "python",
   "pygments_lexer": "ipython3",
   "version": "3.10.12"
  }
 },
 "nbformat": 4,
 "nbformat_minor": 2
}
