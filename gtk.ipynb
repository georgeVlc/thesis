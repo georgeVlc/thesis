{
 "cells": [
  {
   "cell_type": "code",
   "execution_count": 1,
   "metadata": {},
   "outputs": [],
   "source": [
    "import numpy as np\n",
    "import pandas as pd\n",
    "from matplotlib import pyplot as plt\n",
    "\n",
    "plt.style.use('dark_background')"
   ]
  },
  {
   "cell_type": "code",
   "execution_count": 2,
   "metadata": {},
   "outputs": [],
   "source": [
    "row_data = np.load('Dataset.npy', mmap_mode='r')"
   ]
  },
  {
   "cell_type": "code",
   "execution_count": 3,
   "metadata": {},
   "outputs": [
    {
     "data": {
      "text/plain": [
       "((4669820,),\n",
       " memmap(['ur4592644,tt0120884,10,16 January 2005',\n",
       "         'ur3174947,tt0118688,3,16 January 2005',\n",
       "         'ur3780035,tt0387887,8,16 January 2005',\n",
       "         'ur4592628,tt0346491,1,16 January 2005',\n",
       "         'ur3174947,tt0094721,8,16 January 2005',\n",
       "         'ur1162550,tt0114891,9,16 January 2005',\n",
       "         'ur4371033,tt0391198,10,16 January 2005',\n",
       "         'ur4584306,tt0426568,7,14 January 2005',\n",
       "         'ur3174947,tt0120601,8,16 January 2005',\n",
       "         'ur2694867,tt0060196,10,16 January 2005'], dtype='<U43'))"
      ]
     },
     "execution_count": 3,
     "metadata": {},
     "output_type": "execute_result"
    }
   ],
   "source": [
    "row_data.shape, row_data[:10]"
   ]
  },
  {
   "cell_type": "code",
   "execution_count": 4,
   "metadata": {},
   "outputs": [],
   "source": [
    "n_records = int(0.2 * len(row_data))\n",
    "\n",
    "np.random.seed(489)\n",
    "\n",
    "df = pd.DataFrame(\n",
    "    data=pd.Series(\n",
    "        row_data[np.random.choice(len(row_data), n_records, replace=False)])\n",
    "    .str.split(',').tolist(),\n",
    "    columns=['user_id', 'movie_id', 'rating', 'date']\n",
    ")"
   ]
  },
  {
   "cell_type": "code",
   "execution_count": 5,
   "metadata": {},
   "outputs": [
    {
     "name": "stdout",
     "output_type": "stream",
     "text": [
      "<class 'pandas.core.frame.DataFrame'>\n",
      "RangeIndex: 933964 entries, 0 to 933963\n",
      "Data columns (total 4 columns):\n",
      " #   Column    Non-Null Count   Dtype \n",
      "---  ------    --------------   ----- \n",
      " 0   user_id   933964 non-null  object\n",
      " 1   movie_id  933964 non-null  object\n",
      " 2   rating    933964 non-null  object\n",
      " 3   date      933964 non-null  object\n",
      "dtypes: object(4)\n",
      "memory usage: 28.5+ MB\n"
     ]
    }
   ],
   "source": [
    "df.info()"
   ]
  },
  {
   "cell_type": "code",
   "execution_count": 6,
   "metadata": {},
   "outputs": [
    {
     "data": {
      "text/html": [
       "<div>\n",
       "<style scoped>\n",
       "    .dataframe tbody tr th:only-of-type {\n",
       "        vertical-align: middle;\n",
       "    }\n",
       "\n",
       "    .dataframe tbody tr th {\n",
       "        vertical-align: top;\n",
       "    }\n",
       "\n",
       "    .dataframe thead th {\n",
       "        text-align: right;\n",
       "    }\n",
       "</style>\n",
       "<table border=\"1\" class=\"dataframe\">\n",
       "  <thead>\n",
       "    <tr style=\"text-align: right;\">\n",
       "      <th></th>\n",
       "      <th>user_id</th>\n",
       "      <th>movie_id</th>\n",
       "      <th>rating</th>\n",
       "      <th>date</th>\n",
       "    </tr>\n",
       "  </thead>\n",
       "  <tbody>\n",
       "    <tr>\n",
       "      <th>0</th>\n",
       "      <td>ur2488512</td>\n",
       "      <td>tt0025586</td>\n",
       "      <td>7</td>\n",
       "      <td>1 May 2010</td>\n",
       "    </tr>\n",
       "    <tr>\n",
       "      <th>1</th>\n",
       "      <td>ur60496217</td>\n",
       "      <td>tt4425200</td>\n",
       "      <td>4</td>\n",
       "      <td>20 February 2017</td>\n",
       "    </tr>\n",
       "    <tr>\n",
       "      <th>2</th>\n",
       "      <td>ur47207197</td>\n",
       "      <td>tt8667956</td>\n",
       "      <td>9</td>\n",
       "      <td>19 May 2020</td>\n",
       "    </tr>\n",
       "    <tr>\n",
       "      <th>3</th>\n",
       "      <td>ur0475177</td>\n",
       "      <td>tt0443295</td>\n",
       "      <td>9</td>\n",
       "      <td>25 November 2005</td>\n",
       "    </tr>\n",
       "    <tr>\n",
       "      <th>4</th>\n",
       "      <td>ur18827378</td>\n",
       "      <td>tt2124787</td>\n",
       "      <td>4</td>\n",
       "      <td>3 March 2019</td>\n",
       "    </tr>\n",
       "  </tbody>\n",
       "</table>\n",
       "</div>"
      ],
      "text/plain": [
       "      user_id   movie_id rating              date\n",
       "0   ur2488512  tt0025586      7        1 May 2010\n",
       "1  ur60496217  tt4425200      4  20 February 2017\n",
       "2  ur47207197  tt8667956      9       19 May 2020\n",
       "3   ur0475177  tt0443295      9  25 November 2005\n",
       "4  ur18827378  tt2124787      4      3 March 2019"
      ]
     },
     "execution_count": 6,
     "metadata": {},
     "output_type": "execute_result"
    }
   ],
   "source": [
    "df.head()"
   ]
  },
  {
   "cell_type": "code",
   "execution_count": 7,
   "metadata": {},
   "outputs": [],
   "source": [
    "df['user_id'] = df['user_id'].astype('|S')\n",
    "df['movie_id'] = df['movie_id'].astype('|S')\n",
    "df.drop('date', axis=1, inplace=True)"
   ]
  },
  {
   "cell_type": "code",
   "execution_count": 8,
   "metadata": {},
   "outputs": [
    {
     "data": {
      "text/plain": [
       "array(['7', '4', '9', '10', '3', '6', '2', '8', '1', '5'], dtype=object)"
      ]
     },
     "execution_count": 8,
     "metadata": {},
     "output_type": "execute_result"
    }
   ],
   "source": [
    "df.rating.unique()"
   ]
  },
  {
   "cell_type": "code",
   "execution_count": 9,
   "metadata": {},
   "outputs": [],
   "source": [
    "df['rating'] = df['rating'].astype(np.int32)"
   ]
  },
  {
   "cell_type": "code",
   "execution_count": 10,
   "metadata": {},
   "outputs": [
    {
     "data": {
      "text/plain": [
       "user_id      |S11\n",
       "movie_id     |S10\n",
       "rating      int32\n",
       "dtype: object"
      ]
     },
     "execution_count": 10,
     "metadata": {},
     "output_type": "execute_result"
    }
   ],
   "source": [
    "df.dtypes"
   ]
  },
  {
   "cell_type": "code",
   "execution_count": 11,
   "metadata": {},
   "outputs": [
    {
     "data": {
      "text/plain": [
       "(0, 0, 0, 0.0010567859146605222)"
      ]
     },
     "execution_count": 11,
     "metadata": {},
     "output_type": "execute_result"
    }
   ],
   "source": [
    "*df.isna().sum(), \\\n",
    "    df.duplicated().sum() / len(df)"
   ]
  },
  {
   "cell_type": "code",
   "execution_count": 12,
   "metadata": {},
   "outputs": [],
   "source": [
    "df = df.drop_duplicates(keep=False)"
   ]
  },
  {
   "cell_type": "code",
   "execution_count": 13,
   "metadata": {},
   "outputs": [
    {
     "data": {
      "text/html": [
       "<div>\n",
       "<style scoped>\n",
       "    .dataframe tbody tr th:only-of-type {\n",
       "        vertical-align: middle;\n",
       "    }\n",
       "\n",
       "    .dataframe tbody tr th {\n",
       "        vertical-align: top;\n",
       "    }\n",
       "\n",
       "    .dataframe thead th {\n",
       "        text-align: right;\n",
       "    }\n",
       "</style>\n",
       "<table border=\"1\" class=\"dataframe\">\n",
       "  <thead>\n",
       "    <tr style=\"text-align: right;\">\n",
       "      <th></th>\n",
       "      <th>user_id</th>\n",
       "      <th>movie_id</th>\n",
       "      <th>rating</th>\n",
       "    </tr>\n",
       "  </thead>\n",
       "  <tbody>\n",
       "    <tr>\n",
       "      <th>count</th>\n",
       "      <td>932049</td>\n",
       "      <td>932049</td>\n",
       "      <td>932049.000000</td>\n",
       "    </tr>\n",
       "    <tr>\n",
       "      <th>unique</th>\n",
       "      <td>445693</td>\n",
       "      <td>161825</td>\n",
       "      <td>NaN</td>\n",
       "    </tr>\n",
       "    <tr>\n",
       "      <th>top</th>\n",
       "      <td>b'ur2467618'</td>\n",
       "      <td>b'tt7286456'</td>\n",
       "      <td>NaN</td>\n",
       "    </tr>\n",
       "    <tr>\n",
       "      <th>freq</th>\n",
       "      <td>4817</td>\n",
       "      <td>2091</td>\n",
       "      <td>NaN</td>\n",
       "    </tr>\n",
       "    <tr>\n",
       "      <th>mean</th>\n",
       "      <td>NaN</td>\n",
       "      <td>NaN</td>\n",
       "      <td>6.758373</td>\n",
       "    </tr>\n",
       "    <tr>\n",
       "      <th>std</th>\n",
       "      <td>NaN</td>\n",
       "      <td>NaN</td>\n",
       "      <td>2.975004</td>\n",
       "    </tr>\n",
       "    <tr>\n",
       "      <th>min</th>\n",
       "      <td>NaN</td>\n",
       "      <td>NaN</td>\n",
       "      <td>1.000000</td>\n",
       "    </tr>\n",
       "    <tr>\n",
       "      <th>25%</th>\n",
       "      <td>NaN</td>\n",
       "      <td>NaN</td>\n",
       "      <td>5.000000</td>\n",
       "    </tr>\n",
       "    <tr>\n",
       "      <th>50%</th>\n",
       "      <td>NaN</td>\n",
       "      <td>NaN</td>\n",
       "      <td>8.000000</td>\n",
       "    </tr>\n",
       "    <tr>\n",
       "      <th>75%</th>\n",
       "      <td>NaN</td>\n",
       "      <td>NaN</td>\n",
       "      <td>9.000000</td>\n",
       "    </tr>\n",
       "    <tr>\n",
       "      <th>max</th>\n",
       "      <td>NaN</td>\n",
       "      <td>NaN</td>\n",
       "      <td>10.000000</td>\n",
       "    </tr>\n",
       "  </tbody>\n",
       "</table>\n",
       "</div>"
      ],
      "text/plain": [
       "             user_id      movie_id         rating\n",
       "count         932049        932049  932049.000000\n",
       "unique        445693        161825            NaN\n",
       "top     b'ur2467618'  b'tt7286456'            NaN\n",
       "freq            4817          2091            NaN\n",
       "mean             NaN           NaN       6.758373\n",
       "std              NaN           NaN       2.975004\n",
       "min              NaN           NaN       1.000000\n",
       "25%              NaN           NaN       5.000000\n",
       "50%              NaN           NaN       8.000000\n",
       "75%              NaN           NaN       9.000000\n",
       "max              NaN           NaN      10.000000"
      ]
     },
     "execution_count": 13,
     "metadata": {},
     "output_type": "execute_result"
    }
   ],
   "source": [
    "df.describe(include='all')"
   ]
  },
  {
   "cell_type": "code",
   "execution_count": 14,
   "metadata": {},
   "outputs": [
    {
     "data": {
      "text/plain": [
       "47.81862326980663"
      ]
     },
     "execution_count": 14,
     "metadata": {},
     "output_type": "execute_result"
    }
   ],
   "source": [
    "len(df.user_id.unique()) / len(df.user_id) * 100"
   ]
  },
  {
   "cell_type": "code",
   "execution_count": 15,
   "metadata": {},
   "outputs": [
    {
     "data": {
      "image/png": "[encoded data removed]",
      "text/plain": [
       "<Figure size 700x700 with 1 Axes>"
      ]
     },
     "metadata": {},
     "output_type": "display_data"
    }
   ],
   "source": [
    "_, ax = plt.subplots(1, 1, figsize=(7, 7))\n",
    "\n",
    "df.rating.value_counts().plot.bar(ax=ax, rot=0)\n",
    "ax.set_title('Rating counts')\n",
    "ax.set_xlabel('rating')\n",
    "ax.set_ylabel('count')\n",
    "\n",
    "plt.show()"
   ]
  },
  {
   "cell_type": "code",
   "execution_count": 16,
   "metadata": {},
   "outputs": [
    {
     "data": {
      "text/plain": [
       "b'ur2488512'     1791\n",
       "b'ur60496217'       5\n",
       "b'ur47207197'       1\n",
       "b'ur0475177'        6\n",
       "b'ur18827378'      11\n",
       "                 ... \n",
       "b'ur59714635'       1\n",
       "b'ur74721291'       1\n",
       "b'ur71348327'       1\n",
       "b'ur62915242'       1\n",
       "b'ur7192529'        1\n",
       "Name: user_id, Length: 445693, dtype: int64"
      ]
     },
     "execution_count": 16,
     "metadata": {},
     "output_type": "execute_result"
    }
   ],
   "source": [
    "num_of_ratings_per_user = df.user_id.value_counts(sort=False)\n",
    "num_of_ratings_per_user"
   ]
  },
  {
   "cell_type": "code",
   "execution_count": 17,
   "metadata": {},
   "outputs": [
    {
     "data": {
      "text/plain": [
       "380"
      ]
     },
     "execution_count": 17,
     "metadata": {},
     "output_type": "execute_result"
    }
   ],
   "source": [
    "unique_vals = num_of_ratings_per_user.unique()\n",
    "len(unique_vals)"
   ]
  },
  {
   "cell_type": "code",
   "execution_count": 18,
   "metadata": {},
   "outputs": [],
   "source": [
    "data = dict()\n",
    "thres = 4\n",
    "\n",
    "data[f'>= {thres}'] = 0\n",
    "\n",
    "for value in unique_vals:\n",
    "    if value >= thres:\n",
    "        data[f'>= {thres}'] += len(num_of_ratings_per_user[num_of_ratings_per_user == value])\n",
    "        continue\n",
    "    data[str(value)] = len(num_of_ratings_per_user[num_of_ratings_per_user == value])"
   ]
  },
  {
   "cell_type": "code",
   "execution_count": 19,
   "metadata": {},
   "outputs": [
    {
     "data": {
      "text/plain": [
       "{'1': 355302, '2': 46737, '>= 4': 27445, '3': 16209}"
      ]
     },
     "execution_count": 19,
     "metadata": {},
     "output_type": "execute_result"
    }
   ],
   "source": [
    "data = {k: v for k, v in sorted(data.items(), key=lambda item: item[1], reverse=True)}\n",
    "data"
   ]
  },
  {
   "cell_type": "code",
   "execution_count": 34,
   "metadata": {},
   "outputs": [
    {
     "data": {
      "image/png": "[encoded data removed]",
      "text/plain": [
       "<Figure size 700x700 with 1 Axes>"
      ]
     },
     "metadata": {},
     "output_type": "display_data"
    }
   ],
   "source": [
    "_, ax = plt.subplots(1, 1, figsize=(7, 7))\n",
    "\n",
    "ax.bar(data.keys(), data.values())\n",
    "ax.set_ylabel('#users')\n",
    "ax.set_xlabel('#ratings')\n",
    "\n",
    "plt.show()"
   ]
  },
  {
   "cell_type": "code",
   "execution_count": 35,
   "metadata": {},
   "outputs": [
    {
     "data": {
      "text/plain": [
       "436"
      ]
     },
     "execution_count": 35,
     "metadata": {},
     "output_type": "execute_result"
    }
   ],
   "source": [
    "num_of_ratings_per_movie = df.movie_id.value_counts(sort=False)\n",
    "unique_vals = num_of_ratings_per_movie.unique()\n",
    "len(unique_vals)"
   ]
  },
  {
   "cell_type": "code",
   "execution_count": 36,
   "metadata": {},
   "outputs": [
    {
     "data": {
      "text/plain": [
       "{'1': 86890,\n",
       " '2': 25388,\n",
       " '>= 10': 15195,\n",
       " '3': 12246,\n",
       " '4': 7345,\n",
       " '5': 4880,\n",
       " '6': 3515,\n",
       " '7': 2605,\n",
       " '8': 2109,\n",
       " '9': 1652}"
      ]
     },
     "execution_count": 36,
     "metadata": {},
     "output_type": "execute_result"
    }
   ],
   "source": [
    "data = dict()\n",
    "thres = 10\n",
    "\n",
    "data[f'>= {thres}'] = 0\n",
    "\n",
    "for value in unique_vals:\n",
    "    if value >= thres:\n",
    "        data[f'>= {thres}'] += len(num_of_ratings_per_movie[num_of_ratings_per_movie == value])\n",
    "        continue\n",
    "    data[str(value)] = len(num_of_ratings_per_movie[num_of_ratings_per_movie == value])\n",
    "\n",
    "data = {k: v for k, v in sorted(data.items(), key=lambda item: item[1], reverse=True)}\n",
    "data"
   ]
  },
  {
   "cell_type": "code",
   "execution_count": 38,
   "metadata": {},
   "outputs": [
    {
     "data": {
      "image/png": "[encoded data removed]",
      "text/plain": [
       "<Figure size 700x700 with 1 Axes>"
      ]
     },
     "metadata": {},
     "output_type": "display_data"
    }
   ],
   "source": [
    "_, ax = plt.subplots(1, 1, figsize=(7, 7))\n",
    "\n",
    "ax.bar(data.keys(), data.values())\n",
    "ax.set_ylabel('#movies')\n",
    "ax.set_xlabel('#ratings')\n",
    "\n",
    "plt.show()"
   ]
  },
  {
   "cell_type": "code",
   "execution_count": 41,
   "metadata": {},
   "outputs": [
    {
     "data": {
      "text/plain": [
       "('len(movies_subset)=18', 'len(users_subset)=27445')"
      ]
     },
     "execution_count": 41,
     "metadata": {},
     "output_type": "execute_result"
    }
   ],
   "source": [
    "movies_subset = list(num_of_ratings_per_movie[num_of_ratings_per_movie >= 800].index)\n",
    "users_subset = list(num_of_ratings_per_user[num_of_ratings_per_user >= 4].index)\n",
    "\n",
    "f'{len(movies_subset)=}', f'{len(users_subset)=}'"
   ]
  },
  {
   "cell_type": "code",
   "execution_count": 42,
   "metadata": {},
   "outputs": [],
   "source": [
    "chunk_size_users = 1000\n",
    "chunk_size_movies = 9\n",
    "\n",
    "D = np.zeros((len(users_subset), len(movies_subset)), dtype=np.uint8)\n",
    "\n",
    "for start_user in range(0, len(users_subset), chunk_size_users):\n",
    "    users_chunk = users_subset[start_user:start_user + chunk_size_users]\n",
    "    for start_movie in range(0, len(movies_subset), chunk_size_movies):\n",
    "        movies_chunk = movies_subset[start_movie:start_movie + chunk_size_movies]\n",
    "\n",
    "        mask_user = df['user_id'].isin(users_chunk)\n",
    "        mask_movie = df['movie_id'].isin(movies_chunk)\n",
    "\n",
    "        mask = df[mask_user & mask_movie]\n",
    "\n",
    "        for index, row in mask.iterrows():\n",
    "            user_index = users_subset.index(row['user_id'])\n",
    "            movie_index = movies_subset.index(row['movie_id'])\n",
    "            D[user_index, movie_index] = row['rating']"
   ]
  },
  {
   "cell_type": "code",
   "execution_count": 43,
   "metadata": {},
   "outputs": [
    {
     "data": {
      "text/plain": [
       "0.7066658569664582"
      ]
     },
     "execution_count": 43,
     "metadata": {},
     "output_type": "execute_result"
    }
   ],
   "source": [
    "np.count_nonzero(D) / D.size * 100"
   ]
  },
  {
   "cell_type": "code",
   "execution_count": 44,
   "metadata": {},
   "outputs": [
    {
     "data": {
      "text/plain": [
       "(array([0, 0, 0, 0, 0, 0, 0, 0, 0, 0, 0, 0, 0, 0, 0, 0, 0, 0], dtype=uint8),\n",
       " array([0, 0, 0, 0, 0, 0, 0, 5, 0, 0, 0, 0, 0, 0, 0, 0, 0, 0], dtype=uint8))"
      ]
     },
     "execution_count": 44,
     "metadata": {},
     "output_type": "execute_result"
    }
   ],
   "source": [
    "D[0, :], D[1, :]"
   ]
  },
  {
   "cell_type": "code",
   "execution_count": 45,
   "metadata": {},
   "outputs": [
    {
     "data": {
      "image/png": "[encoded data removed]",
      "text/plain": [
       "<Figure size 640x480 with 2 Axes>"
      ]
     },
     "metadata": {},
     "output_type": "display_data"
    }
   ],
   "source": [
    "from matplotlib import gridspec\n",
    "\n",
    "_, ax = plt.subplots(1, 2)\n",
    "\n",
    "im = ax[0].imshow(D[:50, :])\n",
    "ax[0].axis('off')\n",
    "\n",
    "gs = gridspec.GridSpec(1, 2, width_ratios=[5, 1])\n",
    "ax[1] = plt.subplot(gs[1])\n",
    "cbar = plt.colorbar(im, cax=ax[1])\n",
    "cbar.ax.tick_params(labelsize=8)\n",
    "\n",
    "plt.show()"
   ]
  },
  {
   "cell_type": "code",
   "execution_count": 46,
   "metadata": {},
   "outputs": [],
   "source": [
    "np.save('D_matrix.npy', D)"
   ]
  }
 ],
 "metadata": {
  "kernelspec": {
   "display_name": "Python 3",
   "language": "python",
   "name": "python3"
  },
  "language_info": {
   "codemirror_mode": {
    "name": "ipython",
    "version": 3
   },
   "file_extension": ".py",
   "mimetype": "text/x-python",
   "name": "python",
   "nbconvert_exporter": "python",
   "pygments_lexer": "ipython3",
   "version": "3.9.5"
  }
 },
 "nbformat": 4,
 "nbformat_minor": 2
}
